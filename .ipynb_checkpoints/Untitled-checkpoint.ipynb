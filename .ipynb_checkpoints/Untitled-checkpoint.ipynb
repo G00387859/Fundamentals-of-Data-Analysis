{
 "cells": [
  {
   "cell_type": "markdown",
   "metadata": {},
   "source": [
    "# Task1\n",
    "The function below will count the occurances of char's in a list.\n",
    "The function will take a list as a argument \"list1\".\n",
    "Then the list of char will be converted to upper case, this is done because the function cannont determine the difference between lower case and upper case char's.\n",
    "### References\n",
    "1.[python frequency of each character in string](https://www.geeksforgeeks.org/python-frequency-of-each-character-in-string/)<br />\n",
    "2.[python dictionaries](https://www.w3schools.com/python/python_dictionaries.asp)<br />\n",
    "3.[python convert case of elements in a list of strings](https://www.geeksforgeeks.org/python-convert-case-of-elements-in-a-list-of-strings/)<br />\n",
    "    Actual output:<br />\n",
    "    Test1: Normal operation. input: list1=['A', 'a', 'B', 'c', 'A', 'b','b','c']<br /> \n",
    "    Test1: Result: {'A': 3, 'B': 3, 'C': 2}<br /><br />\n",
    "  Test2: without the conversion to upper case.<br />\n",
    "    Code: <br />\n",
    "   > def count(list1):\n",
    "         items = {}\n",
    "         for i in list1:\n",
    "            if i in items:\n",
    "                items[i] +=1\n",
    "            else:\n",
    "                items[i] = 1\n",
    "        return items\n",
    "        \n",
    "   >Input list: ['A', 'a', 'B', 'c', 'A', 'b','b','c'] \n",
    "   >Resutls:{'A': 2, 'a': 1, 'B': 1, 'c': 2, 'b': 2}"
   ]
  },
  {
   "cell_type": "code",
   "execution_count": 11,
   "metadata": {},
   "outputs": [],
   "source": [
    "def count(list1):\n",
    "# [3]Converting list to upper case\n",
    "    l = [x.upper() for x in list1]\n",
    "# [2]create a empty dict [2]   \n",
    "    items = {}\n",
    "#[1]loop over the list\n",
    "    for i in l:\n",
    "#check if i is \"in\" items if true increment [1] \n",
    "        if i in items:\n",
    "            items[i] +=1\n",
    "        else:\n",
    "            items[i] = 1\n",
    "    return items"
   ]
  },
  {
   "cell_type": "code",
   "execution_count": 12,
   "metadata": {},
   "outputs": [],
   "source": [
    "input = ['A', 'a', 'B', 'c', 'A', 'b','b','c'] "
   ]
  },
  {
   "cell_type": "code",
   "execution_count": 13,
   "metadata": {},
   "outputs": [
    {
     "name": "stdout",
     "output_type": "stream",
     "text": [
      "{'A': 3, 'B': 3, 'C': 2}\n"
     ]
    }
   ],
   "source": [
    "print(count(input))"
   ]
  },
  {
   "cell_type": "code",
   "execution_count": null,
   "metadata": {},
   "outputs": [],
   "source": []
  }
 ],
 "metadata": {
  "kernelspec": {
   "display_name": "Python 3",
   "language": "python",
   "name": "python3"
  },
  "language_info": {
   "codemirror_mode": {
    "name": "ipython",
    "version": 3
   },
   "file_extension": ".py",
   "mimetype": "text/x-python",
   "name": "python",
   "nbconvert_exporter": "python",
   "pygments_lexer": "ipython3",
   "version": "3.8.3"
  }
 },
 "nbformat": 4,
 "nbformat_minor": 4
}
